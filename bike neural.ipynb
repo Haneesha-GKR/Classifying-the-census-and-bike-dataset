{
 "cells": [
  {
   "cell_type": "code",
   "execution_count": 1,
   "metadata": {
    "collapsed": true
   },
   "outputs": [],
   "source": [
    "# Required Python Packages\n",
    "import pandas as pd\n",
    "import numpy as np\n",
    "from sklearn import preprocessing\n",
    "from sklearn.model_selection import train_test_split\n",
    "from sklearn.metrics import mean_squared_error, r2_score\n",
    "from sklearn.metrics import accuracy_score\n",
    "from sklearn.metrics import confusion_matrix\n",
    "from sklearn import datasets, linear_model\n"
   ]
  },
  {
   "cell_type": "code",
   "execution_count": 2,
   "metadata": {
    "collapsed": true
   },
   "outputs": [],
   "source": [
    "# Here we have to load the given car Train Data into dataset and test data into testdata using read\n",
    "dataset = pd.read_csv(\"C:/Users/haneesha/Anaconda3/bikeRentalHourlyTrain.csv\")\n",
    "testset = pd.read_csv(\"C:/Users/haneesha/Anaconda3/bikeRentalHourlyTest.csv\")"
   ]
  },
  {
   "cell_type": "code",
   "execution_count": 3,
   "metadata": {
    "collapsed": true
   },
   "outputs": [],
   "source": [
    "headers11 = [\"instant0\",\"instant\",\"dteday\",\"season\",\"yr\",\"mnth\",\"hr\",\"holiday\",\"weekday\",\"workingday\",\"weathersit\",\"temp\",\"atemp\",\"hum\",\"windspeed\",\"casual\",\"registered\",\"cnt\"]\n",
    "headers22 = [\"instant0\",\"instant\",\"dteday\",\"season\",\"yr\",\"mnth\",\"hr\",\"holiday\",\"weekday\",\"workingday\",\"weathersit\",\"temp\",\"atemp\",\"hum\",\"windspeed\",\"casual\",\"registered\",\"cnt\"]"
   ]
  },
  {
   "cell_type": "code",
   "execution_count": 4,
   "metadata": {
    "collapsed": true
   },
   "outputs": [],
   "source": [
    "dataset.columns = headers11\n",
    "testset.columns = headers22"
   ]
  },
  {
   "cell_type": "code",
   "execution_count": 5,
   "metadata": {},
   "outputs": [
    {
     "data": {
      "text/html": [
       "<div>\n",
       "<style>\n",
       "    .dataframe thead tr:only-child th {\n",
       "        text-align: right;\n",
       "    }\n",
       "\n",
       "    .dataframe thead th {\n",
       "        text-align: left;\n",
       "    }\n",
       "\n",
       "    .dataframe tbody tr th {\n",
       "        vertical-align: top;\n",
       "    }\n",
       "</style>\n",
       "<table border=\"1\" class=\"dataframe\">\n",
       "  <thead>\n",
       "    <tr style=\"text-align: right;\">\n",
       "      <th></th>\n",
       "      <th>instant0</th>\n",
       "      <th>instant</th>\n",
       "      <th>dteday</th>\n",
       "      <th>season</th>\n",
       "      <th>yr</th>\n",
       "      <th>mnth</th>\n",
       "      <th>hr</th>\n",
       "      <th>holiday</th>\n",
       "      <th>weekday</th>\n",
       "      <th>workingday</th>\n",
       "      <th>weathersit</th>\n",
       "      <th>temp</th>\n",
       "      <th>atemp</th>\n",
       "      <th>hum</th>\n",
       "      <th>windspeed</th>\n",
       "      <th>casual</th>\n",
       "      <th>registered</th>\n",
       "      <th>cnt</th>\n",
       "    </tr>\n",
       "  </thead>\n",
       "  <tbody>\n",
       "    <tr>\n",
       "      <th>0</th>\n",
       "      <td>2480</td>\n",
       "      <td>2481</td>\n",
       "      <td>2011-04-18</td>\n",
       "      <td>2</td>\n",
       "      <td>0</td>\n",
       "      <td>4</td>\n",
       "      <td>6</td>\n",
       "      <td>0</td>\n",
       "      <td>1</td>\n",
       "      <td>1</td>\n",
       "      <td>1</td>\n",
       "      <td>0.40</td>\n",
       "      <td>0.4091</td>\n",
       "      <td>0.82</td>\n",
       "      <td>0.0000</td>\n",
       "      <td>3</td>\n",
       "      <td>51</td>\n",
       "      <td>54</td>\n",
       "    </tr>\n",
       "    <tr>\n",
       "      <th>1</th>\n",
       "      <td>4731</td>\n",
       "      <td>4732</td>\n",
       "      <td>2011-07-21</td>\n",
       "      <td>3</td>\n",
       "      <td>0</td>\n",
       "      <td>7</td>\n",
       "      <td>1</td>\n",
       "      <td>0</td>\n",
       "      <td>4</td>\n",
       "      <td>1</td>\n",
       "      <td>2</td>\n",
       "      <td>0.74</td>\n",
       "      <td>0.7273</td>\n",
       "      <td>0.84</td>\n",
       "      <td>0.2239</td>\n",
       "      <td>5</td>\n",
       "      <td>16</td>\n",
       "      <td>21</td>\n",
       "    </tr>\n",
       "    <tr>\n",
       "      <th>2</th>\n",
       "      <td>7422</td>\n",
       "      <td>7423</td>\n",
       "      <td>2011-11-10</td>\n",
       "      <td>4</td>\n",
       "      <td>0</td>\n",
       "      <td>11</td>\n",
       "      <td>21</td>\n",
       "      <td>0</td>\n",
       "      <td>4</td>\n",
       "      <td>1</td>\n",
       "      <td>1</td>\n",
       "      <td>0.36</td>\n",
       "      <td>0.3333</td>\n",
       "      <td>0.57</td>\n",
       "      <td>0.2537</td>\n",
       "      <td>6</td>\n",
       "      <td>130</td>\n",
       "      <td>136</td>\n",
       "    </tr>\n",
       "    <tr>\n",
       "      <th>3</th>\n",
       "      <td>8588</td>\n",
       "      <td>8589</td>\n",
       "      <td>2011-12-29</td>\n",
       "      <td>1</td>\n",
       "      <td>0</td>\n",
       "      <td>12</td>\n",
       "      <td>15</td>\n",
       "      <td>0</td>\n",
       "      <td>4</td>\n",
       "      <td>1</td>\n",
       "      <td>2</td>\n",
       "      <td>0.30</td>\n",
       "      <td>0.3182</td>\n",
       "      <td>0.52</td>\n",
       "      <td>0.0896</td>\n",
       "      <td>27</td>\n",
       "      <td>150</td>\n",
       "      <td>177</td>\n",
       "    </tr>\n",
       "    <tr>\n",
       "      <th>4</th>\n",
       "      <td>16339</td>\n",
       "      <td>16340</td>\n",
       "      <td>2012-11-18</td>\n",
       "      <td>4</td>\n",
       "      <td>1</td>\n",
       "      <td>11</td>\n",
       "      <td>13</td>\n",
       "      <td>0</td>\n",
       "      <td>0</td>\n",
       "      <td>0</td>\n",
       "      <td>1</td>\n",
       "      <td>0.40</td>\n",
       "      <td>0.4091</td>\n",
       "      <td>0.62</td>\n",
       "      <td>0.3284</td>\n",
       "      <td>113</td>\n",
       "      <td>334</td>\n",
       "      <td>447</td>\n",
       "    </tr>\n",
       "  </tbody>\n",
       "</table>\n",
       "</div>"
      ],
      "text/plain": [
       "   instant0  instant      dteday  season  yr  mnth  hr  holiday  weekday  \\\n",
       "0      2480     2481  2011-04-18       2   0     4   6        0        1   \n",
       "1      4731     4732  2011-07-21       3   0     7   1        0        4   \n",
       "2      7422     7423  2011-11-10       4   0    11  21        0        4   \n",
       "3      8588     8589  2011-12-29       1   0    12  15        0        4   \n",
       "4     16339    16340  2012-11-18       4   1    11  13        0        0   \n",
       "\n",
       "   workingday  weathersit  temp   atemp   hum  windspeed  casual  registered  \\\n",
       "0           1           1  0.40  0.4091  0.82     0.0000       3          51   \n",
       "1           1           2  0.74  0.7273  0.84     0.2239       5          16   \n",
       "2           1           1  0.36  0.3333  0.57     0.2537       6         130   \n",
       "3           1           2  0.30  0.3182  0.52     0.0896      27         150   \n",
       "4           0           1  0.40  0.4091  0.62     0.3284     113         334   \n",
       "\n",
       "   cnt  \n",
       "0   54  \n",
       "1   21  \n",
       "2  136  \n",
       "3  177  \n",
       "4  447  "
      ]
     },
     "execution_count": 5,
     "metadata": {},
     "output_type": "execute_result"
    }
   ],
   "source": [
    "dataset.head()"
   ]
  },
  {
   "cell_type": "code",
   "execution_count": 6,
   "metadata": {},
   "outputs": [
    {
     "data": {
      "text/plain": [
       "(13034, 18)"
      ]
     },
     "execution_count": 6,
     "metadata": {},
     "output_type": "execute_result"
    }
   ],
   "source": [
    "dataset.shape"
   ]
  },
  {
   "cell_type": "code",
   "execution_count": 7,
   "metadata": {
    "collapsed": true
   },
   "outputs": [],
   "source": [
    "dataset.drop('casual', axis=1, inplace=True)\n",
    "dataset.drop('registered', axis=1, inplace=True)\n",
    "dataset.drop('instant', axis=1, inplace=True)\n",
    "dataset.drop('dteday', axis=1, inplace=True)\n",
    "\n",
    "testset.drop('casual', axis=1, inplace=True)\n",
    "testset.drop('registered', axis=1, inplace=True)\n",
    "testset.drop('instant', axis=1, inplace=True)\n",
    "testset.drop('dteday', axis=1, inplace=True)"
   ]
  },
  {
   "cell_type": "code",
   "execution_count": 8,
   "metadata": {},
   "outputs": [
    {
     "name": "stdout",
     "output_type": "stream",
     "text": [
      "           instant0        season            yr          mnth            hr  \\\n",
      "count  13034.000000  13034.000000  13034.000000  13034.000000  13034.000000   \n",
      "mean    8694.532760      2.501151      0.503222      6.537901     11.524858   \n",
      "std     5028.696269      1.108358      0.500009      3.440652      6.919784   \n",
      "min        0.000000      1.000000      0.000000      1.000000      0.000000   \n",
      "25%     4329.500000      2.000000      0.000000      4.000000      6.000000   \n",
      "50%     8709.500000      3.000000      1.000000      7.000000     12.000000   \n",
      "75%    13069.750000      3.000000      1.000000     10.000000     18.000000   \n",
      "max    17378.000000      4.000000      1.000000     12.000000     23.000000   \n",
      "\n",
      "            holiday       weekday    workingday    weathersit          temp  \\\n",
      "count  13034.000000  13034.000000  13034.000000  13034.000000  13034.000000   \n",
      "mean       0.028464      3.006982      0.682676      1.425349      0.496873   \n",
      "std        0.166301      2.006212      0.465453      0.639373      0.192009   \n",
      "min        0.000000      0.000000      0.000000      1.000000      0.020000   \n",
      "25%        0.000000      1.000000      0.000000      1.000000      0.340000   \n",
      "50%        0.000000      3.000000      1.000000      1.000000      0.500000   \n",
      "75%        0.000000      5.000000      1.000000      2.000000      0.660000   \n",
      "max        1.000000      6.000000      1.000000      4.000000      1.000000   \n",
      "\n",
      "              atemp           hum     windspeed           cnt  \n",
      "count  13034.000000  13034.000000  13034.000000  13034.000000  \n",
      "mean       0.475566      0.627438      0.190691    189.264462  \n",
      "std        0.171328      0.193192      0.122527    181.371544  \n",
      "min        0.000000      0.000000      0.000000      1.000000  \n",
      "25%        0.333300      0.470000      0.104500     40.000000  \n",
      "50%        0.484800      0.630000      0.194000    141.000000  \n",
      "75%        0.621200      0.780000      0.253700    280.000000  \n",
      "max        0.984800      1.000000      0.850700    977.000000  \n"
     ]
    }
   ],
   "source": [
    "print(dataset.describe())"
   ]
  },
  {
   "cell_type": "code",
   "execution_count": 9,
   "metadata": {
    "collapsed": true
   },
   "outputs": [],
   "source": [
    "headers1 = [\"instant0\",\"season\",\"yr\",\"mnth\",\"hr\",\"holiday\",\"weekday\",\"workingday\",\"weathersit\",\"temp\",\"atemp\",\"hum\",\"windspeed\",\"cnt\"]\n",
    "headers2 = [\"instant0\",\"season\",\"yr\",\"mnth\",\"hr\",\"holiday\",\"weekday\",\"workingday\",\"weathersit\",\"temp\",\"atemp\",\"hum\",\"windspeed\",\"cnt\"]"
   ]
  },
  {
   "cell_type": "code",
   "execution_count": 10,
   "metadata": {
    "collapsed": true
   },
   "outputs": [],
   "source": [
    "number = preprocessing.LabelEncoder()\n",
    "for i in headers1:\n",
    "    dataset[i] = number.fit_transform(dataset[i].astype(\"str\"))"
   ]
  },
  {
   "cell_type": "code",
   "execution_count": 11,
   "metadata": {
    "collapsed": true
   },
   "outputs": [],
   "source": [
    "number = preprocessing.LabelEncoder()\n",
    "for i in headers2:\n",
    "    testset[i] = number.fit_transform(testset[i].astype(\"str\"))"
   ]
  },
  {
   "cell_type": "code",
   "execution_count": 12,
   "metadata": {
    "collapsed": true
   },
   "outputs": [],
   "source": [
    "train_x, train_y = dataset[headers1[1:-1]], dataset[headers1[-1]]\n",
    "test_x, test_y = testset[headers2[1:-1]], testset[headers2[-1]]"
   ]
  },
  {
   "cell_type": "code",
   "execution_count": 13,
   "metadata": {
    "collapsed": true
   },
   "outputs": [],
   "source": [
    "from sklearn.preprocessing import StandardScaler\n",
    "scaler = StandardScaler()\n",
    "scaler.fit(train_x)\n",
    "scaler.fit(test_x)\n",
    "train_x = scaler.transform(train_x)\n",
    "test_x = scaler.transform(test_x)"
   ]
  },
  {
   "cell_type": "code",
   "execution_count": 14,
   "metadata": {
    "collapsed": true
   },
   "outputs": [],
   "source": [
    "from sklearn.neural_network import MLPRegressor\n",
    "MLPregr = MLPRegressor(hidden_layer_sizes=(40,40,40), max_iter=100000)"
   ]
  },
  {
   "cell_type": "code",
   "execution_count": 15,
   "metadata": {
    "collapsed": true
   },
   "outputs": [],
   "source": [
    "trained_model = MLPregr.fit(train_x,train_y)"
   ]
  },
  {
   "cell_type": "code",
   "execution_count": 16,
   "metadata": {
    "collapsed": true
   },
   "outputs": [],
   "source": [
    "test_model = MLPregr.fit(test_x,test_y)"
   ]
  },
  {
   "cell_type": "code",
   "execution_count": 17,
   "metadata": {
    "collapsed": true
   },
   "outputs": [],
   "source": [
    "predictions1 = MLPregr.predict(train_x)"
   ]
  },
  {
   "cell_type": "code",
   "execution_count": 18,
   "metadata": {
    "collapsed": true
   },
   "outputs": [],
   "source": [
    "predictions2 = MLPregr.predict(test_x)"
   ]
  },
  {
   "cell_type": "code",
   "execution_count": 19,
   "metadata": {},
   "outputs": [
    {
     "data": {
      "text/plain": [
       "35223.479530183184"
      ]
     },
     "execution_count": 19,
     "metadata": {},
     "output_type": "execute_result"
    }
   ],
   "source": [
    "sum((predictions2 - test_y)**2)/len(predictions2)"
   ]
  },
  {
   "cell_type": "code",
   "execution_count": 20,
   "metadata": {
    "collapsed": true
   },
   "outputs": [],
   "source": [
    "trainn_x = pd.DataFrame(train_x)"
   ]
  },
  {
   "cell_type": "code",
   "execution_count": 21,
   "metadata": {
    "collapsed": true
   },
   "outputs": [],
   "source": [
    "trainn_y = pd.DataFrame(train_y)"
   ]
  },
  {
   "cell_type": "code",
   "execution_count": 22,
   "metadata": {
    "collapsed": true
   },
   "outputs": [],
   "source": [
    "testt_x = pd.DataFrame(test_x)"
   ]
  },
  {
   "cell_type": "code",
   "execution_count": 23,
   "metadata": {
    "collapsed": true
   },
   "outputs": [],
   "source": [
    "from sklearn.model_selection import KFold, cross_val_predict"
   ]
  },
  {
   "cell_type": "code",
   "execution_count": 24,
   "metadata": {
    "collapsed": true
   },
   "outputs": [],
   "source": [
    "kf = KFold(n_splits=5)"
   ]
  },
  {
   "cell_type": "code",
   "execution_count": 25,
   "metadata": {},
   "outputs": [
    {
     "data": {
      "text/plain": [
       "5"
      ]
     },
     "execution_count": 25,
     "metadata": {},
     "output_type": "execute_result"
    }
   ],
   "source": [
    "kf.get_n_splits(train_x)"
   ]
  },
  {
   "cell_type": "code",
   "execution_count": 26,
   "metadata": {},
   "outputs": [
    {
     "name": "stdout",
     "output_type": "stream",
     "text": [
      "47425.0674778\n"
     ]
    }
   ],
   "source": [
    "MSE = 0.0\n",
    "for train_index, test_index in kf.split(train_x):\n",
    "    MLPregr = MLPRegressor(hidden_layer_sizes=(40,40,40,40,40))\n",
    "    MLPregr.fit(trainn_x.iloc[train_index], trainn_y.iloc[train_index].values.ravel())\n",
    "    predictions = MLPregr.predict(trainn_x.iloc[test_index])\n",
    "    MSE += sum((predictions - trainn_y.iloc[test_index].values.ravel())**2)/len(predictions)\n",
    "    \n",
    "print(MSE/5.0)\n",
    "    "
   ]
  },
  {
   "cell_type": "code",
   "execution_count": 27,
   "metadata": {
    "collapsed": true
   },
   "outputs": [],
   "source": [
    "kf_prediction = cross_val_predict(MLPregr, trainn_x.iloc[:, 3:13 ],dataset[\"cnt\"])\n",
    "testkf_nn_pred = cross_val_predict(MLPregr, testt_x.iloc[:, 3:13 ], testset[\"cnt\"])"
   ]
  },
  {
   "cell_type": "code",
   "execution_count": 28,
   "metadata": {},
   "outputs": [
    {
     "name": "stdout",
     "output_type": "stream",
     "text": [
      "Mean squared error of test set: 41939.98\n"
     ]
    }
   ],
   "source": [
    "print(\"Mean squared error of test set: %.2f\" % mean_squared_error(testset[\"cnt\"], testkf_nn_pred))"
   ]
  },
  {
   "cell_type": "code",
   "execution_count": 29,
   "metadata": {},
   "outputs": [
    {
     "name": "stdout",
     "output_type": "stream",
     "text": [
      "Mean squared error of trained set: 50919.69\n"
     ]
    }
   ],
   "source": [
    "print(\"Mean squared error of trained set: %.2f\" %mean_squared_error(dataset[\"cnt\"], kf_prediction))"
   ]
  }
 ],
 "metadata": {
  "kernelspec": {
   "display_name": "Python 3",
   "language": "python",
   "name": "python3"
  },
  "language_info": {
   "codemirror_mode": {
    "name": "ipython",
    "version": 3
   },
   "file_extension": ".py",
   "mimetype": "text/x-python",
   "name": "python",
   "nbconvert_exporter": "python",
   "pygments_lexer": "ipython3",
   "version": "3.6.3"
  }
 },
 "nbformat": 4,
 "nbformat_minor": 2
}
